{
 "cells": [
  {
   "cell_type": "markdown",
   "metadata": {},
   "source": [
    "## Mahindra First Choice Data Analysis"
   ]
  },
  {
   "cell_type": "markdown",
   "metadata": {},
   "source": [
    "### Problem Statements\n",
    "    1. Geolocation Based Customer Analysis\n",
    "        * Explore how various factors like make, model, time & type of service, etc vary with location.\n",
    "            * Identifying the ownership pattern of cars throughout the country.\n",
    "            * This also captures the problem wherein information regarding the spending patterns can be identified.\n",
    "        * Identify the type of order each state receives and present it as an interactive visualization.\n",
    "    2. Market Segmentation\n",
    "        * Divide market of potential customers into internally homogeneous and mutually heterogeneous groups or segments.\n",
    "            * To be based on different characteristics captured in the data.\n",
    "     3. Customer Lifetime value prediction"
   ]
  },
  {
   "cell_type": "markdown",
   "metadata": {},
   "source": [
    "#### Further Problem Statements\n",
    "    1. Inventory Management and Recommendation\n",
    "    2. Marketing Recommendation\n",
    "    3. Customer Prediction"
   ]
  },
  {
   "cell_type": "markdown",
   "metadata": {},
   "source": [
    "### The Data\n",
    "\n",
    "* Dataset contains the following:\n",
    "    1. Customer Data\n",
    "    2. Invoice Data\n",
    "    3. Joint Technical Data\n",
    "    4. Plant Master"
   ]
  },
  {
   "cell_type": "markdown",
   "metadata": {},
   "source": [
    "### Data Cleaning and Feature Engineering"
   ]
  },
  {
   "cell_type": "code",
   "execution_count": 2,
   "metadata": {},
   "outputs": [],
   "source": [
    "import numpy as np\n",
    "import pandas as pd\n",
    "import seaborn as sns\n",
    "import string\n",
    "import sys\n",
    "import time\n",
    "import warnings\n",
    "\n",
    "from matplotlib import pyplot as plt\n",
    "from scipy import stats\n",
    "from my_utils import *\n",
    "\n",
    "warnings.filterwarnings(\"ignore\")\n",
    "np.set_printoptions(threshold=sys.maxsize)"
   ]
  },
  {
   "cell_type": "code",
   "execution_count": 3,
   "metadata": {},
   "outputs": [],
   "source": [
    "plant_master = pd.read_excel(\"redacted/data/Plant Master.xlsx\", sheet_name='Sheet1')"
   ]
  },
  {
   "cell_type": "markdown",
   "metadata": {},
   "source": [
    "### Customer Data"
   ]
  },
  {
   "cell_type": "code",
   "execution_count": 5,
   "metadata": {},
   "outputs": [
    {
     "data": {
      "text/html": [
       "<div>\n",
       "<style scoped>\n",
       "    .dataframe tbody tr th:only-of-type {\n",
       "        vertical-align: middle;\n",
       "    }\n",
       "\n",
       "    .dataframe tbody tr th {\n",
       "        vertical-align: top;\n",
       "    }\n",
       "\n",
       "    .dataframe thead th {\n",
       "        text-align: right;\n",
       "    }\n",
       "</style>\n",
       "<table border=\"1\" class=\"dataframe\">\n",
       "  <thead>\n",
       "    <tr style=\"text-align: right;\">\n",
       "      <th></th>\n",
       "      <th>Plant</th>\n",
       "      <th>Name 1</th>\n",
       "      <th>Valuation Area</th>\n",
       "      <th>Customer no. - plant</th>\n",
       "      <th>Vendor number plant</th>\n",
       "      <th>Factory calendar</th>\n",
       "      <th>Name 2</th>\n",
       "      <th>House number and street</th>\n",
       "      <th>PO Box</th>\n",
       "      <th>Postal Code</th>\n",
       "      <th>City</th>\n",
       "      <th>Sales organization</th>\n",
       "      <th>State</th>\n",
       "    </tr>\n",
       "  </thead>\n",
       "  <tbody>\n",
       "    <tr>\n",
       "      <th>0</th>\n",
       "      <td>BC07</td>\n",
       "      <td>NERKUNDRAM</td>\n",
       "      <td>BC07</td>\n",
       "      <td>PLBC07</td>\n",
       "      <td>PLBC07</td>\n",
       "      <td>IN</td>\n",
       "      <td>NaN</td>\n",
       "      <td>No.117 Poonamallee High Road,</td>\n",
       "      <td>600107.0</td>\n",
       "      <td>600107</td>\n",
       "      <td>Chennai</td>\n",
       "      <td>MFCS</td>\n",
       "      <td>Tamil Nadu</td>\n",
       "    </tr>\n",
       "    <tr>\n",
       "      <th>1</th>\n",
       "      <td>BC30</td>\n",
       "      <td>SAS NAGAR - MOHALI</td>\n",
       "      <td>BC30</td>\n",
       "      <td>PLBC30</td>\n",
       "      <td>PLBC30</td>\n",
       "      <td>IN</td>\n",
       "      <td>NaN</td>\n",
       "      <td>C-118, Phase 07,</td>\n",
       "      <td>160055.0</td>\n",
       "      <td>160055</td>\n",
       "      <td>Mohali</td>\n",
       "      <td>MFCS</td>\n",
       "      <td>Punjab</td>\n",
       "    </tr>\n",
       "    <tr>\n",
       "      <th>2</th>\n",
       "      <td>X001</td>\n",
       "      <td>X001 - AUTO PLANET WHEELS</td>\n",
       "      <td>X001</td>\n",
       "      <td>PLX001</td>\n",
       "      <td>NaN</td>\n",
       "      <td>IN</td>\n",
       "      <td>Thane</td>\n",
       "      <td>Unit No.3, Kothari Compound,</td>\n",
       "      <td>400610.0</td>\n",
       "      <td>400610</td>\n",
       "      <td>Thane</td>\n",
       "      <td>MFCA</td>\n",
       "      <td>Maharashtra</td>\n",
       "    </tr>\n",
       "    <tr>\n",
       "      <th>3</th>\n",
       "      <td>X002</td>\n",
       "      <td>X002 - BHANDARI INDUSTRIES PVT</td>\n",
       "      <td>X002</td>\n",
       "      <td>PLX002</td>\n",
       "      <td>NaN</td>\n",
       "      <td>IN</td>\n",
       "      <td>Ghaziabad</td>\n",
       "      <td>18/1, C Site 4, Sahibabad</td>\n",
       "      <td>201010.0</td>\n",
       "      <td>201010</td>\n",
       "      <td>Ghaziabad</td>\n",
       "      <td>MFCA</td>\n",
       "      <td>Uttar Pradesh</td>\n",
       "    </tr>\n",
       "    <tr>\n",
       "      <th>4</th>\n",
       "      <td>X003</td>\n",
       "      <td>X003 - Om Sri Satya Sai Automo</td>\n",
       "      <td>X003</td>\n",
       "      <td>PLX003</td>\n",
       "      <td>NaN</td>\n",
       "      <td>IN</td>\n",
       "      <td>Bengaluru</td>\n",
       "      <td>#75, Sy.No. 83/2, Panathur Mai</td>\n",
       "      <td>560087.0</td>\n",
       "      <td>560087</td>\n",
       "      <td>Bengaluru</td>\n",
       "      <td>MFCB</td>\n",
       "      <td>Karnataka</td>\n",
       "    </tr>\n",
       "  </tbody>\n",
       "</table>\n",
       "</div>"
      ],
      "text/plain": [
       "  Plant                          Name 1 Valuation Area Customer no. - plant  \\\n",
       "0  BC07                      NERKUNDRAM           BC07               PLBC07   \n",
       "1  BC30              SAS NAGAR - MOHALI           BC30               PLBC30   \n",
       "2  X001       X001 - AUTO PLANET WHEELS           X001               PLX001   \n",
       "3  X002  X002 - BHANDARI INDUSTRIES PVT           X002               PLX002   \n",
       "4  X003  X003 - Om Sri Satya Sai Automo           X003               PLX003   \n",
       "\n",
       "  Vendor number plant Factory calendar     Name 2  \\\n",
       "0              PLBC07               IN        NaN   \n",
       "1              PLBC30               IN        NaN   \n",
       "2                 NaN               IN      Thane   \n",
       "3                 NaN               IN  Ghaziabad   \n",
       "4                 NaN               IN  Bengaluru   \n",
       "\n",
       "          House number and street    PO Box  Postal Code       City  \\\n",
       "0   No.117 Poonamallee High Road,  600107.0       600107    Chennai   \n",
       "1                C-118, Phase 07,  160055.0       160055     Mohali   \n",
       "2    Unit No.3, Kothari Compound,  400610.0       400610      Thane   \n",
       "3       18/1, C Site 4, Sahibabad  201010.0       201010  Ghaziabad   \n",
       "4  #75, Sy.No. 83/2, Panathur Mai  560087.0       560087  Bengaluru   \n",
       "\n",
       "  Sales organization          State  \n",
       "0               MFCS     Tamil Nadu  \n",
       "1               MFCS         Punjab  \n",
       "2               MFCA    Maharashtra  \n",
       "3               MFCA  Uttar Pradesh  \n",
       "4               MFCB      Karnataka  "
      ]
     },
     "execution_count": 5,
     "metadata": {},
     "output_type": "execute_result"
    }
   ],
   "source": [
    "plant_master.head()"
   ]
  }
 ],
 "metadata": {
  "kernelspec": {
   "display_name": "Python 3",
   "language": "python",
   "name": "python3"
  },
  "language_info": {
   "codemirror_mode": {
    "name": "ipython",
    "version": 3
   },
   "file_extension": ".py",
   "mimetype": "text/x-python",
   "name": "python",
   "nbconvert_exporter": "python",
   "pygments_lexer": "ipython3",
   "version": "3.6.10"
  }
 },
 "nbformat": 4,
 "nbformat_minor": 4
}
