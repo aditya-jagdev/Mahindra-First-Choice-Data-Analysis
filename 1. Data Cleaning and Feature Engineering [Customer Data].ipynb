{
 "cells": [
  {
   "cell_type": "markdown",
   "metadata": {},
   "source": [
    "## Mahindra First Choice Data Analysis"
   ]
  },
  {
   "cell_type": "markdown",
   "metadata": {},
   "source": [
    "### Problem Statements\n",
    "    1. Geolocation Based Customer Analysis\n",
    "        * Explore how various factors like make, model, time & type of service, etc vary with location.\n",
    "            * Identifying the ownership pattern of cars throughout the country.\n",
    "            * This also captures the problem wherein information regarding the spending patterns can be identified.\n",
    "        * Identify the type of order each state receives and present it as an interactive visualization.\n",
    "    2. Market Segmentation\n",
    "        * Divide market of potential customers into internally homogeneous and mutually heterogeneous groups or segments.\n",
    "            * To be based on different characteristics captured in the data.\n",
    "     3. Customer Lifetime value prediction"
   ]
  },
  {
   "cell_type": "markdown",
   "metadata": {},
   "source": [
    "#### Further Problem Statements\n",
    "    1. Inventory Management and Recommendation\n",
    "    2. Marketing Recommendation\n",
    "    3. Customer Prediction"
   ]
  },
  {
   "cell_type": "markdown",
   "metadata": {},
   "source": [
    "### The Data\n",
    "\n",
    "* Dataset contains the following:\n",
    "    1. Customer Data\n",
    "    2. Invoice Data\n",
    "    3. Joint Technical Data\n",
    "    4. Plant Master"
   ]
  },
  {
   "cell_type": "markdown",
   "metadata": {},
   "source": [
    "### Data Cleaning and Feature Engineering"
   ]
  },
  {
   "cell_type": "code",
   "execution_count": 1,
   "metadata": {},
   "outputs": [],
   "source": [
    "import numpy as np\n",
    "import pandas as pd\n",
    "import seaborn as sns\n",
    "import string\n",
    "import sys\n",
    "import time\n",
    "import warnings\n",
    "\n",
    "from matplotlib import pyplot as plt\n",
    "from scipy import stats\n",
    "from my_utils import *\n",
    "\n",
    "warnings.filterwarnings(\"ignore\")\n",
    "np.set_printoptions(threshold=sys.maxsize)"
   ]
  },
  {
   "cell_type": "code",
   "execution_count": null,
   "metadata": {},
   "outputs": [],
   "source": [
    "customer_data = pd.read_excel(\"redacted/data/Customer_Data.xlsx\", sheet_name='Sheet1')"
   ]
  },
  {
   "cell_type": "code",
   "execution_count": null,
   "metadata": {},
   "outputs": [],
   "source": [
    "invoice = pd.read_csv(\"redacted/data/Final_invoice.csv\")"
   ]
  },
  {
   "cell_type": "code",
   "execution_count": null,
   "metadata": {},
   "outputs": [],
   "source": [
    "jtd = pd.read_csv(\"redacted/data/JTD.csv\")"
   ]
  },
  {
   "cell_type": "code",
   "execution_count": null,
   "metadata": {},
   "outputs": [],
   "source": [
    "plant_master = pd.read_excel(\"redacted/data/Plant Master.xlsx\", sheet_name='Sheet1')"
   ]
  },
  {
   "cell_type": "markdown",
   "metadata": {},
   "source": [
    "### Customer Data"
   ]
  },
  {
   "cell_type": "code",
   "execution_count": null,
   "metadata": {},
   "outputs": [],
   "source": [
    "check_null(customer_data)"
   ]
  },
  {
   "cell_type": "markdown",
   "metadata": {},
   "source": [
    "* <code>['Death date', 'Date of Birth', 'Occupation', 'Marital Status']</code> have a high number of missing values which would not be possible to impute. Hence dropping these columns.\n",
    "* <code>['Partner Type', 'Data Origin']</code> have too few a number of missing values which may not justify the time and effort to be put in for diminished gains. Hence dropping the entries where these columns have missing values."
   ]
  },
  {
   "cell_type": "code",
   "execution_count": null,
   "metadata": {},
   "outputs": [],
   "source": [
    "if 'Occupation' in customer_data.columns:\n",
    "    customer_data.drop(columns=['Death date', 'Date of Birth', 'Occupation', 'Marital Status'], axis=1, inplace=True)\n",
    "if 'Partner Type' in customer_data.columns:\n",
    "    customer_data.drop(customer_data[customer_data['Partner Type'].isnull() | customer_data['Data Origin'].isnull()].index,\n",
    "                       axis=0, inplace=True)"
   ]
  },
  {
   "cell_type": "code",
   "execution_count": null,
   "metadata": {
    "scrolled": true
   },
   "outputs": [],
   "source": [
    "check_null(customer_data)"
   ]
  },
  {
   "cell_type": "code",
   "execution_count": null,
   "metadata": {
    "scrolled": true
   },
   "outputs": [],
   "source": [
    "_ = customer_data['Title'].value_counts()\n",
    "sns.barplot(x=_.values, y=_.index)"
   ]
  },
  {
   "cell_type": "markdown",
   "metadata": {},
   "source": [
    "* The <code>Title</code> only contains <code>['Mr.', 'Mrs.']</code>. <code>['Company', 'Mr. and Mrs.']</code> weren't found.\n",
    "* They have an imbalanced distribution.\n",
    "* There seems to be no features that would aid in predicting the <code>Title</code> before merging."
   ]
  },
  {
   "cell_type": "code",
   "execution_count": null,
   "metadata": {},
   "outputs": [],
   "source": [
    "titles = ['Mr.', 'Mrs.']\n",
    "customer_data['Title'] = np.where(customer_data['Title'].isnull(),\n",
    "                         titles[math.floor(random.random()*((483931 + 25094)/483931))], \n",
    "                         customer_data['Title'])"
   ]
  },
  {
   "cell_type": "markdown",
   "metadata": {},
   "source": [
    "* All values in `customer_data` have been imputed."
   ]
  },
  {
   "cell_type": "code",
   "execution_count": null,
   "metadata": {},
   "outputs": [],
   "source": [
    "customer_data['Business Partner'].nunique()\n",
    "len(customer_data)"
   ]
  },
  {
   "cell_type": "code",
   "execution_count": 12,
   "metadata": {},
   "outputs": [
    {
     "data": {
      "text/plain": [
       "555202"
      ]
     },
     "execution_count": 12,
     "metadata": {},
     "output_type": "execute_result"
    },
    {
     "data": {
      "text/plain": [
       "555202"
      ]
     },
     "execution_count": 12,
     "metadata": {},
     "output_type": "execute_result"
    }
   ],
   "source": [
    "customer_data['Customer No.'].nunique()\n",
    "len(customer_data)"
   ]
  },
  {
   "cell_type": "markdown",
   "metadata": {},
   "source": [
    "* <code>['Customer No.', 'Business Partner']</code> seem to be some sort of identifiers for internal and external systems.\n",
    "* Both contain all unique values with no repetition.\n",
    "* They do not offer any prediction power, but may aid in merging."
   ]
  },
  {
   "cell_type": "code",
   "execution_count": 13,
   "metadata": {},
   "outputs": [],
   "source": [
    "customer_data = pd.get_dummies(customer_data, columns=['Partner Type', 'Data Origin', 'Title'])"
   ]
  },
  {
   "cell_type": "code",
   "execution_count": 14,
   "metadata": {},
   "outputs": [
    {
     "data": {
      "text/html": [
       "<div>\n",
       "<style scoped>\n",
       "    .dataframe tbody tr th:only-of-type {\n",
       "        vertical-align: middle;\n",
       "    }\n",
       "\n",
       "    .dataframe tbody tr th {\n",
       "        vertical-align: top;\n",
       "    }\n",
       "\n",
       "    .dataframe thead th {\n",
       "        text-align: right;\n",
       "    }\n",
       "</style>\n",
       "<table border=\"1\" class=\"dataframe\">\n",
       "  <thead>\n",
       "    <tr style=\"text-align: right;\">\n",
       "      <th></th>\n",
       "      <th>Business Partner</th>\n",
       "      <th>Customer No.</th>\n",
       "      <th>Partner Type_1.0</th>\n",
       "      <th>Partner Type_2.0</th>\n",
       "      <th>Partner Type_3.0</th>\n",
       "      <th>Partner Type_4.0</th>\n",
       "      <th>Partner Type_9001.0</th>\n",
       "      <th>Partner Type_9002.0</th>\n",
       "      <th>Partner Type_9003.0</th>\n",
       "      <th>Data Origin_Z001</th>\n",
       "      <th>...</th>\n",
       "      <th>Data Origin_Z016</th>\n",
       "      <th>Data Origin_Z017</th>\n",
       "      <th>Data Origin_Z018</th>\n",
       "      <th>Data Origin_Z019</th>\n",
       "      <th>Data Origin_Z020</th>\n",
       "      <th>Data Origin_Z021</th>\n",
       "      <th>Data Origin_Z022</th>\n",
       "      <th>Title_1.0</th>\n",
       "      <th>Title_2.0</th>\n",
       "      <th>Title_Mr.</th>\n",
       "    </tr>\n",
       "  </thead>\n",
       "  <tbody>\n",
       "    <tr>\n",
       "      <th>0</th>\n",
       "      <td>31</td>\n",
       "      <td>1</td>\n",
       "      <td>1</td>\n",
       "      <td>0</td>\n",
       "      <td>0</td>\n",
       "      <td>0</td>\n",
       "      <td>0</td>\n",
       "      <td>0</td>\n",
       "      <td>0</td>\n",
       "      <td>1</td>\n",
       "      <td>...</td>\n",
       "      <td>0</td>\n",
       "      <td>0</td>\n",
       "      <td>0</td>\n",
       "      <td>0</td>\n",
       "      <td>0</td>\n",
       "      <td>0</td>\n",
       "      <td>0</td>\n",
       "      <td>0</td>\n",
       "      <td>0</td>\n",
       "      <td>1</td>\n",
       "    </tr>\n",
       "    <tr>\n",
       "      <th>1</th>\n",
       "      <td>32</td>\n",
       "      <td>2</td>\n",
       "      <td>1</td>\n",
       "      <td>0</td>\n",
       "      <td>0</td>\n",
       "      <td>0</td>\n",
       "      <td>0</td>\n",
       "      <td>0</td>\n",
       "      <td>0</td>\n",
       "      <td>0</td>\n",
       "      <td>...</td>\n",
       "      <td>0</td>\n",
       "      <td>0</td>\n",
       "      <td>0</td>\n",
       "      <td>0</td>\n",
       "      <td>0</td>\n",
       "      <td>0</td>\n",
       "      <td>0</td>\n",
       "      <td>0</td>\n",
       "      <td>0</td>\n",
       "      <td>1</td>\n",
       "    </tr>\n",
       "    <tr>\n",
       "      <th>2</th>\n",
       "      <td>34</td>\n",
       "      <td>4</td>\n",
       "      <td>1</td>\n",
       "      <td>0</td>\n",
       "      <td>0</td>\n",
       "      <td>0</td>\n",
       "      <td>0</td>\n",
       "      <td>0</td>\n",
       "      <td>0</td>\n",
       "      <td>0</td>\n",
       "      <td>...</td>\n",
       "      <td>0</td>\n",
       "      <td>0</td>\n",
       "      <td>0</td>\n",
       "      <td>0</td>\n",
       "      <td>0</td>\n",
       "      <td>0</td>\n",
       "      <td>0</td>\n",
       "      <td>0</td>\n",
       "      <td>0</td>\n",
       "      <td>1</td>\n",
       "    </tr>\n",
       "    <tr>\n",
       "      <th>3</th>\n",
       "      <td>35</td>\n",
       "      <td>5</td>\n",
       "      <td>1</td>\n",
       "      <td>0</td>\n",
       "      <td>0</td>\n",
       "      <td>0</td>\n",
       "      <td>0</td>\n",
       "      <td>0</td>\n",
       "      <td>0</td>\n",
       "      <td>0</td>\n",
       "      <td>...</td>\n",
       "      <td>0</td>\n",
       "      <td>0</td>\n",
       "      <td>0</td>\n",
       "      <td>0</td>\n",
       "      <td>0</td>\n",
       "      <td>0</td>\n",
       "      <td>0</td>\n",
       "      <td>0</td>\n",
       "      <td>0</td>\n",
       "      <td>1</td>\n",
       "    </tr>\n",
       "    <tr>\n",
       "      <th>4</th>\n",
       "      <td>42</td>\n",
       "      <td>7</td>\n",
       "      <td>1</td>\n",
       "      <td>0</td>\n",
       "      <td>0</td>\n",
       "      <td>0</td>\n",
       "      <td>0</td>\n",
       "      <td>0</td>\n",
       "      <td>0</td>\n",
       "      <td>0</td>\n",
       "      <td>...</td>\n",
       "      <td>0</td>\n",
       "      <td>0</td>\n",
       "      <td>0</td>\n",
       "      <td>0</td>\n",
       "      <td>0</td>\n",
       "      <td>0</td>\n",
       "      <td>0</td>\n",
       "      <td>0</td>\n",
       "      <td>0</td>\n",
       "      <td>1</td>\n",
       "    </tr>\n",
       "  </tbody>\n",
       "</table>\n",
       "<p>5 rows × 34 columns</p>\n",
       "</div>"
      ],
      "text/plain": [
       "  Business Partner Customer No.  Partner Type_1.0  Partner Type_2.0  \\\n",
       "0               31            1                 1                 0   \n",
       "1               32            2                 1                 0   \n",
       "2               34            4                 1                 0   \n",
       "3               35            5                 1                 0   \n",
       "4               42            7                 1                 0   \n",
       "\n",
       "   Partner Type_3.0  Partner Type_4.0  Partner Type_9001.0  \\\n",
       "0                 0                 0                    0   \n",
       "1                 0                 0                    0   \n",
       "2                 0                 0                    0   \n",
       "3                 0                 0                    0   \n",
       "4                 0                 0                    0   \n",
       "\n",
       "   Partner Type_9002.0  Partner Type_9003.0  Data Origin_Z001  ...  \\\n",
       "0                    0                    0                 1  ...   \n",
       "1                    0                    0                 0  ...   \n",
       "2                    0                    0                 0  ...   \n",
       "3                    0                    0                 0  ...   \n",
       "4                    0                    0                 0  ...   \n",
       "\n",
       "   Data Origin_Z016  Data Origin_Z017  Data Origin_Z018  Data Origin_Z019  \\\n",
       "0                 0                 0                 0                 0   \n",
       "1                 0                 0                 0                 0   \n",
       "2                 0                 0                 0                 0   \n",
       "3                 0                 0                 0                 0   \n",
       "4                 0                 0                 0                 0   \n",
       "\n",
       "   Data Origin_Z020  Data Origin_Z021  Data Origin_Z022  Title_1.0  Title_2.0  \\\n",
       "0                 0                 0                 0          0          0   \n",
       "1                 0                 0                 0          0          0   \n",
       "2                 0                 0                 0          0          0   \n",
       "3                 0                 0                 0          0          0   \n",
       "4                 0                 0                 0          0          0   \n",
       "\n",
       "   Title_Mr.  \n",
       "0          1  \n",
       "1          1  \n",
       "2          1  \n",
       "3          1  \n",
       "4          1  \n",
       "\n",
       "[5 rows x 34 columns]"
      ]
     },
     "execution_count": 14,
     "metadata": {},
     "output_type": "execute_result"
    }
   ],
   "source": [
    "customer_data.head()"
   ]
  }
 ],
 "metadata": {
  "kernelspec": {
   "display_name": "Python 3",
   "language": "python",
   "name": "python3"
  },
  "language_info": {
   "codemirror_mode": {
    "name": "ipython",
    "version": 3
   },
   "file_extension": ".py",
   "mimetype": "text/x-python",
   "name": "python",
   "nbconvert_exporter": "python",
   "pygments_lexer": "ipython3",
   "version": "3.6.10"
  }
 },
 "nbformat": 4,
 "nbformat_minor": 4
}
